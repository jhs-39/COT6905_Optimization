{
 "cells": [
  {
   "cell_type": "markdown",
   "id": "471a9976",
   "metadata": {},
   "source": [
    "# Week 6: \n",
    "\n",
    "## Lecture 21: Eigenvalues and eigenvectors\n",
    "\n",
    ":::{iframe} https://www.youtube.com/embed/cdZnhQjJu4I\n",
    ":width: 100%\n",
    "Lecture 21\n",
    ":::\n",
    "\n",
    "## Lecture 22: Diagonalization and powers of A\n",
    "\n",
    ":::{iframe} https://www.youtube.com/embed/13r9QY6cmjc\n",
    ":width: 100%\n",
    "Lecture 22\n",
    ":::\n",
    "\n",
    "## Lecture 23: Differential equations and exp(At)\n",
    "\n",
    ":::{iframe} https://www.youtube.com/embed/IZqwi0wJovM\n",
    ":width: 100%\n",
    "Lecture 23\n",
    ":::\n",
    "\n",
    "## Lecture 24: Markov matrices; fourier series\n",
    "\n",
    ":::{iframe} https://www.youtube.com/embed/lGGDIGizcQ0\n",
    ":width: 100%\n",
    "Lecture 24\n",
    ":::"
   ]
  }
 ],
 "metadata": {
  "jupytext": {
   "formats": "md:myst",
   "text_representation": {
    "extension": ".md",
    "format_name": "myst",
    "format_version": 0.13,
    "jupytext_version": "1.10.3"
   }
  },
  "kernelspec": {
   "display_name": "Python 3",
   "name": "python3"
  },
  "source_map": [
   12
  ]
 },
 "nbformat": 4,
 "nbformat_minor": 5
}