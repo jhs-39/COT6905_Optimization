{
 "cells": [
  {
   "cell_type": "markdown",
   "id": "bd404167",
   "metadata": {},
   "source": [
    "# Week 7: \n",
    "\n",
    "## Lecture 25: Symmetric matrices and positive definiteness\n",
    "\n",
    ":::{iframe} https://www.youtube.com/embed/UCc9q_cAhho\n",
    ":width: 100%\n",
    "Lecture 25\n",
    ":::\n",
    "\n",
    "## Lecture 26: Complex matrices; fast fourier transform\n",
    "\n",
    ":::{iframe} https://www.youtube.com/embed/M0Sa8fLOajA\n",
    ":width: 100%\n",
    "Lecture 26\n",
    ":::\n",
    "\n",
    "## Lecture 27: Positive definite matrices and minima\n",
    "\n",
    ":::{iframe} https://www.youtube.com/embed/vF7eyJ2g3kU\n",
    ":width: 100%\n",
    "Lecture 27\n",
    ":::\n",
    "\n",
    "## Lecture 28: Similar matrices and Jordan form\n",
    "\n",
    ":::{iframe} https://www.youtube.com/embed/TSdXJw83kyA\n",
    ":width: 100%\n",
    "Lecture 28\n",
    ":::"
   ]
  }
 ],
 "metadata": {
  "jupytext": {
   "formats": "md:myst",
   "text_representation": {
    "extension": ".md",
    "format_name": "myst",
    "format_version": 0.13,
    "jupytext_version": "1.10.3"
   }
  },
  "kernelspec": {
   "display_name": "Python 3",
   "name": "python3"
  },
  "source_map": [
   12
  ]
 },
 "nbformat": 4,
 "nbformat_minor": 5
}